{
 "cells": [
  {
   "cell_type": "markdown",
   "id": "752eac66",
   "metadata": {},
   "source": [
    "# Data Science Tools and Ecosystem"
   ]
  },
  {
   "cell_type": "markdown",
   "id": "26baedb5",
   "metadata": {},
   "source": [
    "In this notebook, Data Science Tools and Ecosystem are summerized."
   ]
  },
  {
   "cell_type": "markdown",
   "id": "a3b53eb7",
   "metadata": {},
   "source": [
    "Some of the popular languages that Data Scientists used are:\n",
    "1. Python\n",
    "2. R\n",
    "3. SQL\n",
    "4. JAVA\n",
    "5. C++ etc..;"
   ]
  },
  {
   "cell_type": "markdown",
   "id": "56425945",
   "metadata": {},
   "source": [
    "Some of the commonly used libraries used by Data Scientist include:\n",
    "1. Tensorflow\n",
    "2. Numpy\n",
    "3. Scipy\n",
    "4. Pandas\n",
    "5. Matplotlib\n",
    "6. Keras\n",
    "7. Pytorch etc..;"
   ]
  },
  {
   "cell_type": "markdown",
   "id": "0d75ba9f",
   "metadata": {},
   "source": [
    "|Data Science Tools|\n",
    "|---|\n",
    "|TensorFlow|\n",
    "|Apache Hadoop|\n",
    "|SAS|"
   ]
  },
  {
   "cell_type": "markdown",
   "id": "62f9d2c3",
   "metadata": {},
   "source": [
    "### Below are a few examples of evaluating arithmetic expressions in Python"
   ]
  },
  {
   "cell_type": "code",
   "execution_count": 1,
   "id": "0dff5977",
   "metadata": {},
   "outputs": [],
   "source": [
    "# This a simple arithmetic expression to mutiply then add integers\n",
    "10+7"
   ]
  },
  {
   "cell_type": "code",
   "execution_count": 2,
   "id": "da531f68",
   "metadata": {},
   "outputs": [],
   "source": [
    "#  This will convert 200 minutes to hours by diving by 60\n",
    "200/60"
   ]
  },
  {
   "cell_type": "markdown",
   "id": "0974384f",
   "metadata": {},
   "source": [
    "__Objective__\n",
    "* List popular languages for Data Science\n",
    "* List popular libraries for Data Science\n",
    "* List of Well known data science tools\n",
    "* How to provide comments in the cell."
   ]
  },
  {
   "cell_type": "markdown",
   "id": "3205fd03",
   "metadata": {},
   "source": [
    "## Author\n",
    "\n",
    "Bharadwaj I V V S"
   ]
  },
  {
   "cell_type": "code",
   "execution_count": null,
   "id": "e1d5ca0d",
   "metadata": {},
   "outputs": [],
   "source": []
  }
 ],
 "metadata": {
  "kernelspec": {
   "display_name": "Python 3 (ipykernel)",
   "language": "python",
   "name": "python3"
  },
  "language_info": {
   "codemirror_mode": {
    "name": "ipython",
    "version": 3
   },
   "file_extension": ".py",
   "mimetype": "text/x-python",
   "name": "python",
   "nbconvert_exporter": "python",
   "pygments_lexer": "ipython3",
   "version": "3.9.16"
  }
 },
 "nbformat": 4,
 "nbformat_minor": 5
}
